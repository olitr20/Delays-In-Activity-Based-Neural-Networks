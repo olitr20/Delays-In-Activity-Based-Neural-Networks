{
  "nbformat": 4,
  "nbformat_minor": 0,
  "metadata": {
    "colab": {
      "provenance": [],
      "gpuType": "T4",
      "mount_file_id": "1J3Z-c2sCI8WJKktRTOGPpY6w_ueVBMT1",
      "authorship_tag": "ABX9TyNd/G9jBkgLsjnHcOPT4dNQ",
      "include_colab_link": true
    },
    "kernelspec": {
      "name": "python3",
      "display_name": "Python 3"
    },
    "language_info": {
      "name": "python"
    },
    "accelerator": "GPU"
  },
  "cells": [
    {
      "cell_type": "markdown",
      "metadata": {
        "id": "view-in-github",
        "colab_type": "text"
      },
      "source": [
        "<a href=\"https://colab.research.google.com/github/olitr20/Delays-In-Activity-Based-Neural-Networks/blob/main/PiCar_FirstTest.ipynb\" target=\"_parent\"><img src=\"https://colab.research.google.com/assets/colab-badge.svg\" alt=\"Open In Colab\"/></a>"
      ]
    },
    {
      "cell_type": "code",
      "execution_count": null,
      "metadata": {
        "id": "uaHLU1x9LbkR"
      },
      "outputs": [],
      "source": [
        "import tensorflow as tf\n",
        "import matplotlib.pyplot as plt\n",
        "import numpy as np\n",
        "\n",
        "import random\n",
        "import os\n",
        "import shutil"
      ]
    },
    {
      "cell_type": "markdown",
      "source": [
        "Set the random seed for reproducibility"
      ],
      "metadata": {
        "id": "xmKCqXDWLtM5"
      }
    },
    {
      "cell_type": "code",
      "source": [
        "SEED = 42\n",
        "\n",
        "tf.random.set_seed(SEED)\n",
        "np.random.seed(SEED)\n",
        "random.seed(SEED)\n",
        "os.environ['PYTHONHASHSEED'] = str(SEED)"
      ],
      "metadata": {
        "id": "eCvoHj7YLwt4"
      },
      "execution_count": null,
      "outputs": []
    },
    {
      "cell_type": "markdown",
      "source": [
        "Extract data from Kaggle"
      ],
      "metadata": {
        "id": "FaE76PKfMspP"
      }
    },
    {
      "cell_type": "code",
      "source": [
        "os.environ['KAGGLE_USERNAME'] = 'olithomasroche'\n",
        "os.environ['KAGGLE_KEY'] = '809b1de2fb9962e2e1fff34ea01ae05b'\n",
        "\n",
        "!pip install kaggle\n",
        "!kaggle competitions download -c machine-learning-in-science-ii-2025\n",
        "\n",
        "ROOT = 'data'\n",
        "\n",
        "datasets.utils.extract_archive('machine-learning-in-science-ii-2025.zip', ROOT)"
      ],
      "metadata": {
        "id": "uVFQqt-1MuCn"
      },
      "execution_count": null,
      "outputs": []
    }
  ]
}